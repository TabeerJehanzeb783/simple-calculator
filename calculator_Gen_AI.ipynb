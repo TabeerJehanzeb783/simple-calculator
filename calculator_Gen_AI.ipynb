{
  "nbformat": 4,
  "nbformat_minor": 0,
  "metadata": {
    "colab": {
      "provenance": [],
      "toc_visible": true,
      "authorship_tag": "ABX9TyOWNU48UiYaOZeQCTZ8e+jU",
      "include_colab_link": true
    },
    "kernelspec": {
      "name": "python3",
      "display_name": "Python 3"
    },
    "language_info": {
      "name": "python"
    }
  },
  "cells": [
    {
      "cell_type": "markdown",
      "metadata": {
        "id": "view-in-github",
        "colab_type": "text"
      },
      "source": [
        "<a href=\"https://colab.research.google.com/github/TabeerJehanzeb783/simple-calculator/blob/main/calculator_Gen_AI.ipynb\" target=\"_parent\"><img src=\"https://colab.research.google.com/assets/colab-badge.svg\" alt=\"Open In Colab\"/></a>"
      ]
    },
    {
      "cell_type": "code",
      "execution_count": 1,
      "metadata": {
        "colab": {
          "base_uri": "https://localhost:8080/"
        },
        "id": "FJkkl1P6Bzk6",
        "outputId": "7bcc43fe-4c26-4f79-e8dc-3a91697edd2b"
      },
      "outputs": [
        {
          "output_type": "stream",
          "name": "stdout",
          "text": [
            "Simple Calculator\n",
            "Choose an operation:\n",
            "1. Addition\n",
            "2. Subtraction\n",
            "3. Multiplication\n",
            "4. Division\n",
            "Enter the number of the operation (1/2/3/4): 1\n",
            "Enter first number: 22\n",
            "Enter second number: 23\n",
            "Result: 22.0 + 23.0 = 45.0\n"
          ]
        }
      ],
      "source": [
        "# Simple Calculator Function\n",
        "\n",
        "def calculator():\n",
        "    print(\"Simple Calculator\")\n",
        "    print(\"Choose an operation:\")\n",
        "    print(\"1. Addition\")\n",
        "    print(\"2. Subtraction\")\n",
        "    print(\"3. Multiplication\")\n",
        "    print(\"4. Division\")\n",
        "\n",
        "    operation = input(\"Enter the number of the operation (1/2/3/4): \")\n",
        "\n",
        "    # Input validation\n",
        "    if operation not in ['1', '2', '3', '4']:\n",
        "        print(\"Invalid input, please select a valid operation.\")\n",
        "        return\n",
        "\n",
        "    num1 = float(input(\"Enter first number: \"))\n",
        "    num2 = float(input(\"Enter second number: \"))\n",
        "\n",
        "    if operation == '1':\n",
        "        result = num1 + num2\n",
        "        print(f\"Result: {num1} + {num2} = {result}\")\n",
        "\n",
        "    elif operation == '2':\n",
        "        result = num1 - num2\n",
        "        print(f\"Result: {num1} - {num2} = {result}\")\n",
        "\n",
        "    elif operation == '3':\n",
        "        result = num1 * num2\n",
        "        print(f\"Result: {num1} * {num2} = {result}\")\n",
        "\n",
        "    elif operation == '4':\n",
        "        # Check for division by zero\n",
        "        if num2 != 0:\n",
        "            result = num1 / num2\n",
        "            print(f\"Result: {num1} / {num2} = {result}\")\n",
        "        else:\n",
        "            print(\"Error: Division by zero is not allowed.\")\n",
        "\n",
        "# Call the calculator function\n",
        "calculator()\n"
      ]
    }
  ]
}